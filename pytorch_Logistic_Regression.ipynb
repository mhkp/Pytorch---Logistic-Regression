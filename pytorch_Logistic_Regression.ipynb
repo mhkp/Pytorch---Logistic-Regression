{
  "nbformat": 4,
  "nbformat_minor": 0,
  "metadata": {
    "colab": {
      "provenance": []
    },
    "kernelspec": {
      "name": "python3",
      "display_name": "Python 3"
    },
    "language_info": {
      "name": "python"
    }
  },
  "cells": [
    {
      "cell_type": "code",
      "execution_count": 14,
      "metadata": {
        "id": "l_0bZsCdk88r"
      },
      "outputs": [],
      "source": [
        "import torch\n",
        "import torch.nn as nn\n",
        "import numpy as np\n",
        "import matplotlib.pyplot as plt\n",
        "from sklearn import datasets\n",
        "from sklearn.preprocessing import StandardScaler\n",
        "from sklearn.model_selection import train_test_split"
      ]
    },
    {
      "cell_type": "code",
      "source": [
        "#0 prepare data\n",
        "bc = datasets.load_breast_cancer()\n",
        "X,Y = bc.data, bc.target\n",
        "n_samples,n_features=X.shape\n",
        "\n",
        "X_train,X_test,Y_train,Y_test = train_test_split(X, Y, test_size=0.1, random_state=1234)\n",
        "sc = StandardScaler()\n",
        "\n",
        "X_train = sc.fit_transform(X_train)\n",
        "X_test = sc.transform(X_test)\n",
        "\n",
        "X_train=torch.from_numpy(X_train.astype(np.float32))\n",
        "X_test=torch.from_numpy(X_test.astype(np.float32))\n",
        "Y_train=torch.from_numpy(Y_train.astype(np.float32))\n",
        "Y_test=torch.from_numpy(Y_test.astype(np.float32))\n",
        "\n",
        "Y_train=Y_train.view(Y_train.shape[0],1)\n",
        "Y_test=Y_test.view(Y_test.shape[0],1)"
      ],
      "metadata": {
        "id": "yDH6O5DFlY_L"
      },
      "execution_count": 15,
      "outputs": []
    },
    {
      "cell_type": "code",
      "source": [
        "#1) Model\n",
        "# f = w*x+b, sigmoid at the end\n",
        "class LogisticRegression(nn.Module):\n",
        "  def __init__(self, n_input_features):\n",
        "    super(LogisticRegression,self).__init__()\n",
        "    self.linear = nn.Linear(n_input_features,1)\n",
        "  def forward(self,x):\n",
        "    Y_pred = torch.sigmoid(self.linear(x))\n",
        "    return Y_pred\n",
        "\n",
        "model = LogisticRegression(n_features)"
      ],
      "metadata": {
        "id": "4gJuiDYPqmhu"
      },
      "execution_count": 16,
      "outputs": []
    },
    {
      "cell_type": "code",
      "source": [
        "# 2)loss and optimizer\n",
        "criterion = nn.BCELoss()\n",
        "l_rate=0.01\n",
        "optimizer = torch.optim.SGD(model.parameters(), lr=l_rate)"
      ],
      "metadata": {
        "id": "mrMI8ka7ri0U"
      },
      "execution_count": 17,
      "outputs": []
    },
    {
      "cell_type": "code",
      "source": [
        "#3)training loop\n",
        "n_epoch=1000\n",
        "for epoch in range(n_epoch):\n",
        "  #forward pass loss\n",
        "  Y_pred = model(X_test)\n",
        "  loss = criterion(Y_pred, Y_test)\n",
        "\n",
        "  #backward pass\n",
        "  loss.backward()\n",
        "  #update\n",
        "  optimizer.step()\n",
        "  optimizer.zero_grad()\n",
        "\n",
        "  if (epoch+1)%100==0:\n",
        "    print(f'itration: {epoch+1} ,loss = {loss.item():.4f}')\n",
        "with torch.no_grad():\n",
        "  Y_predicted = model(X_test) \n",
        "  Y_predicted_cls = Y_predicted.round()\n",
        "  acc = Y_predicted_cls.eq(Y_test).sum()/float(Y_test.shape[0])\n",
        "  print(f'accuracy = {acc:.4f}')\n"
      ],
      "metadata": {
        "colab": {
          "base_uri": "https://localhost:8080/"
        },
        "id": "1CZ4XT6osN_m",
        "outputId": "df8983cb-eeb3-4230-af91-b566eef6f308"
      },
      "execution_count": 18,
      "outputs": [
        {
          "output_type": "stream",
          "name": "stdout",
          "text": [
            "itration: 100 ,loss = 0.2836\n",
            "itration: 200 ,loss = 0.2071\n",
            "itration: 300 ,loss = 0.1721\n",
            "itration: 400 ,loss = 0.1512\n",
            "itration: 500 ,loss = 0.1371\n",
            "itration: 600 ,loss = 0.1267\n",
            "itration: 700 ,loss = 0.1187\n",
            "itration: 800 ,loss = 0.1122\n",
            "itration: 900 ,loss = 0.1069\n",
            "itration: 1000 ,loss = 0.1024\n",
            "accuracy = 0.9825\n"
          ]
        }
      ]
    }
  ]
}